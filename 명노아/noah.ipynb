{
 "cells": [
  {
   "cell_type": "code",
   "execution_count": 2,
   "metadata": {},
   "outputs": [
    {
     "data": {
      "text/plain": [
       "array(['전국', '서울', '부산', '대구', '인천', '광주', '대전', '울산', '세종', '경기', '강원',\n",
       "       '충북', '충남', '전북', '전남', '경북', '경남', '제주'], dtype=object)"
      ]
     },
     "execution_count": 2,
     "metadata": {},
     "output_type": "execute_result"
    }
   ],
   "source": [
    "import pandas as pd\n",
    "import numpy as np\n",
    "import matplotlib.pyplot as plt\n",
    "\n",
    "people=pd.read_csv('인구수.csv')\n",
    "people.columns=[i for i in range(1991, 2024)] \n",
    "people.index=[i for i in range(0,576,32)]\n",
    "people.loc[:,1991].values"
   ]
  },
  {
   "cell_type": "code",
   "execution_count": 3,
   "metadata": {},
   "outputs": [],
   "source": [
    "highschool=pd.read_csv('./Data/highschool.csv')\n",
    "participants=pd.read_csv('./Data/participants.csv')\n",
    "ready=pd.read_csv('./Data/ready.csv')\n",
    "school=pd.read_csv('./Data/school.csv')\n",
    "total=pd.read_csv('./Data/total.csv')\n"
   ]
  }
 ],
 "metadata": {
  "kernelspec": {
   "display_name": "My_38",
   "language": "python",
   "name": "python3"
  },
  "language_info": {
   "codemirror_mode": {
    "name": "ipython",
    "version": 3
   },
   "file_extension": ".py",
   "mimetype": "text/x-python",
   "name": "python",
   "nbconvert_exporter": "python",
   "pygments_lexer": "ipython3",
   "version": "3.8.18"
  }
 },
 "nbformat": 4,
 "nbformat_minor": 2
}
